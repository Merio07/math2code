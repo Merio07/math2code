{
 "cells": [
  {
   "cell_type": "markdown",
   "id": "995b0872",
   "metadata": {},
   "source": [
    "Problema 1: \n",
    "\n",
    "Vamos a obtener dos vectores $V_1$ y $V_2$ de tal forma que sean aleatoriosn en el cual calcularemos los siguientes puntos:\n",
    "\n",
    "1) $V_1 \\cdot V_2$\n",
    "2) Norma de $V_1$ y $V_2$\n",
    "3) Encontrar el ángulo entre $V_1$ y $V_2$\n",
    "4) Visualizar los vectores. "
   ]
  },
  {
   "cell_type": "code",
   "execution_count": 139,
   "id": "541ca9b3",
   "metadata": {},
   "outputs": [],
   "source": [
    "import numpy as np\n",
    "import matplotlib.pyplot as plt\n",
    "from numpy import random\n",
    "\n",
    "\n",
    "v_1 = random.randint(100, size=(1, 2)) # Genera un array 1x2 con valores aleatorios entre 0 y 100\n",
    "v_2 = random.randint(100, size=(1, 2)) # Genera un array 1x2 con valores aleatorios entre 0 y 100\n",
    "\n",
    "\n",
    "producto_punto = np.dot(v_1, v_2.T) # Multiplica los dos arrays y como multiplica matrices, se hace la transpuesta del segundo array\n",
    "\n",
    "norma_1 = np.linalg.norm(v_1) # Calcula la norma del primer array\n",
    "norma_2 = np.linalg.norm(v_2) # Calcula la norma del segundo array\n",
    "\n",
    "angulo = np.arccos(producto_punto / (norma_1 * norma_2)) # Calcula el ángulo entre los dos arrays\n",
    "angulo = np.degrees(angulo) # Convierte el ángulo a grados\n"
   ]
  },
  {
   "cell_type": "markdown",
   "id": "47aa2fd1",
   "metadata": {},
   "source": [
    "Resultados:"
   ]
  },
  {
   "cell_type": "code",
   "execution_count": 141,
   "id": "a7c46412",
   "metadata": {},
   "outputs": [
    {
     "name": "stdout",
     "output_type": "stream",
     "text": [
      "Vector 1:  [[30 16]]\n",
      "Vector 2:  [[ 2 97]]\n",
      "Producto punto:  [[1612]]\n",
      "Norma de V_1:  34.0\n",
      "Norma de V_2:  97.02061636580135\n",
      "Ángulo entre los vectores:  [[60.74632415]] grados\n"
     ]
    }
   ],
   "source": [
    "print(\"Vector 1: \", v_1)\n",
    "print(\"Vector 2: \", v_2)\n",
    "print(\"Producto punto: \", producto_punto) # Imprime el resultado de la multiplicación\n",
    "print(\"Norma de V_1: \",norma_1) # Imprime la suma de los elementos del array resultante\n",
    "print(\"Norma de V_2: \",norma_2) # Imprime la suma de los elementos del array resultante\n",
    "print(\"Ángulo entre los vectores: \", angulo , \"grados\") # Imprime la suma de los elementos del array resultante\n",
    "\n"
   ]
  },
  {
   "cell_type": "code",
   "execution_count": null,
   "id": "b1648cda",
   "metadata": {},
   "outputs": [
    {
     "data": {
      "image/png": "[encoded data removed]",
      "text/plain": [
       "<Figure size 640x480 with 1 Axes>"
      ]
     },
     "metadata": {},
     "output_type": "display_data"
    }
   ],
   "source": [
    "import matplotlib.pyplot as plt\n",
    "\n",
    "origen = np.array([0, 0]) # Origen de los vectores\n",
    "\n",
    "plt.quiver(*origen, *v_1[0], angles='xy', scale_units='xy', scale=1, color='r', label='Vector 1') # Dibuja el primer vector\n",
    "plt.quiver(*origen, *v_2[0], angles='xy', scale_units='xy', scale=1, color='b', label='Vector 2') # Dibuja el segundo vector\n",
    "plt.show()"
   ]
  }
 ],
 "metadata": {
  "kernelspec": {
   "display_name": "Python 3",
   "language": "python",
   "name": "python3"
  },
  "language_info": {
   "codemirror_mode": {
    "name": "ipython",
    "version": 3
   },
   "file_extension": ".py",
   "mimetype": "text/x-python",
   "name": "python",
   "nbconvert_exporter": "python",
   "pygments_lexer": "ipython3",
   "version": "3.12.8"
  }
 },
 "nbformat": 4,
 "nbformat_minor": 5
}
